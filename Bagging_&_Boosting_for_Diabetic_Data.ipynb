{
 "cells": [
  {
   "cell_type": "markdown",
   "id": "d8ca30b9",
   "metadata": {},
   "source": [
    "# Proyecto final de Aprendizaje Automático\n",
    "## Autor:\n",
    "Daniel Useche.\n",
    "ignaciousecheparedes@gmail.com\n",
    "\n",
    "Raul Saavedra\n",
    "maul.saavedrarunet.edu.veolea@gmail.com\n",
    "\n",
    "---\n",
    "## Descripción\n",
    "Aplicación de multiclasificadores tipo Bagging y Boosting a la data de pacientes diabéticos extraida de 130 hospitales de los Estados Unidos en el periodo comprendido entre 1999-2008.\n",
    "\n",
    "El data set original puede encontrarse en el siguiente [enlace](https://archive.ics.uci.edu/ml/datasets/Diabetes+130-US+hospitals+for+years+1999-2008#) o en la dirección: https://archive.ics.uci.edu/ml/datasets/Diabetes+130-US+hospitals+for+years+1999-2008#\n",
    "\n",
    "Para una explicación detallada de los atributos presentes en el dataset dirigirse a https://www.hindawi.com/journals/bmri/2014/781670/\n",
    "\n",
    "---"
   ]
  },
  {
   "cell_type": "markdown",
   "id": "a23911ad",
   "metadata": {},
   "source": [
    "## Cargando el DataSet "
   ]
  },
  {
   "cell_type": "code",
   "execution_count": null,
   "id": "2d4191a4",
   "metadata": {},
   "outputs": [],
   "source": [
    "import numpy as np\n",
    "import pandas as pd \n",
    "diabeticDataSet = pd.read_csv(\"diabetic_data.csv\", header = 0)\n",
    "diabeticDataSet.tail()"
   ]
  },
  {
   "cell_type": "markdown",
   "id": "bae44d6e",
   "metadata": {},
   "source": [
    "---\n",
    "## Preprocesado:"
   ]
  },
  {
   "cell_type": "markdown",
   "id": "88881881",
   "metadata": {},
   "source": [
    "### Eliminación de caracteristicas ruidosas, o con valores faltantes:\n",
    "Como todo conjunto de datos, el data set utilizado tiene atributos que poseen elementos faltantes en su mayoria, redundantes o ruidosos, como se muestra en la tabla 1 (pág 3) del [documento](https://www.hindawi.com/journals/bmri/2014/781670/) que describe los atributos, los siguientes atributos deben ser depurados del dataset por su cantidad de valores faltantes:\n",
    "- weight: indica el peso del paciente, pero como su medida no es obligatoria, posee un aproximado de 97% de valores faltantes.\n",
    "- payer_code: número que indica el tipo de pago realizado por el paciente, 40% de datos faltantes e irrelevante para el análisis.\n",
    "- medical_specialty: indica la especialidad del médico que brindó la atención, posee 49% de datos faltantes."
   ]
  },
  {
   "cell_type": "code",
   "execution_count": null,
   "id": "c2b6af6b",
   "metadata": {},
   "outputs": [],
   "source": [
    "diabeticDataSet = diabeticDataSet.drop(columns = ['weight', 'payer_code', 'medical_specialty'])"
   ]
  },
  {
   "cell_type": "markdown",
   "id": "891a9a0f",
   "metadata": {},
   "source": [
    "### Estableciendo un registro único por paciente:\n",
    "Tambien hay que tomar en cuenta que puede existir mas de un registro para el mismo paciente, por lo que se tomará el atributo **patient_nbr** para filtrar los encuentros y así no existan pacientes duplicados:"
   ]
  },
  {
   "cell_type": "code",
   "execution_count": null,
   "id": "438556ff",
   "metadata": {},
   "outputs": [],
   "source": [
    "diabeticDataSet = diabeticDataSet.drop_duplicates(subset='patient_nbr')"
   ]
  },
  {
   "cell_type": "markdown",
   "id": "e076a750",
   "metadata": {},
   "source": [
    "### Vista preliminar del dataset:"
   ]
  },
  {
   "cell_type": "code",
   "execution_count": null,
   "id": "5801b63f",
   "metadata": {},
   "outputs": [],
   "source": [
    "diabeticDataSet.T"
   ]
  },
  {
   "cell_type": "markdown",
   "id": "ed62a6da",
   "metadata": {},
   "source": [
    "### Transformación de valores faltantes con el formato '?' a un valor compatible Nan\n",
    "La Mayoría de los algoritmos de aprendizaje requieren que sus entradas no posean valores faltantes, y no funcionarán si este requerimiento es violado [ref](https://scikit-learn.org/stable/modules/impute.html#impute)."
   ]
  },
  {
   "cell_type": "code",
   "execution_count": null,
   "id": "59c43a74",
   "metadata": {},
   "outputs": [],
   "source": [
    "diabeticDataSet = diabeticDataSet.replace('?', np.nan) "
   ]
  },
  {
   "cell_type": "code",
   "execution_count": null,
   "id": "ec9dfdd9",
   "metadata": {},
   "outputs": [],
   "source": [
    "diabeticDataSet.gender.value_counts()\n"
   ]
  },
  {
   "cell_type": "code",
   "execution_count": null,
   "id": "85e69e98",
   "metadata": {},
   "outputs": [],
   "source": []
  }
 ],
 "metadata": {
  "kernelspec": {
   "display_name": "Python 3 (ipykernel)",
   "language": "python",
   "name": "python3"
  },
  "language_info": {
   "codemirror_mode": {
    "name": "ipython",
    "version": 3
   },
   "file_extension": ".py",
   "mimetype": "text/x-python",
   "name": "python",
   "nbconvert_exporter": "python",
   "pygments_lexer": "ipython3",
   "version": "3.9.2"
  },
  "vscode": {
   "interpreter": {
    "hash": "916dbcbb3f70747c44a77c7bcd40155683ae19c65e1c03b4aa3499c5328201f1"
   }
  }
 },
 "nbformat": 4,
 "nbformat_minor": 5
}
